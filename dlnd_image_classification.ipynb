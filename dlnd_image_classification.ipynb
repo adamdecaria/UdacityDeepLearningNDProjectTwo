{
 "cells": [
  {
   "cell_type": "markdown",
   "metadata": {
    "collapsed": true,
    "deletable": true,
    "editable": true
   },
   "source": [
    "# Image Classification\n",
    "In this project, you'll classify images from the [CIFAR-10 dataset](https://www.cs.toronto.edu/~kriz/cifar.html).  The dataset consists of airplanes, dogs, cats, and other objects. You'll preprocess the images, then train a convolutional neural network on all the samples. The images need to be normalized and the labels need to be one-hot encoded.  You'll get to apply what you learned and build a convolutional, max pooling, dropout, and fully connected layers.  At the end, you'll get to see your neural network's predictions on the sample images.\n",
    "## Get the Data\n",
    "Run the following cell to download the [CIFAR-10 dataset for python](https://www.cs.toronto.edu/~kriz/cifar-10-python.tar.gz)."
   ]
  },
  {
   "cell_type": "code",
   "execution_count": 1,
   "metadata": {
    "collapsed": false,
    "deletable": true,
    "editable": true
   },
   "outputs": [
    {
     "name": "stdout",
     "output_type": "stream",
     "text": [
      "All files found!\n"
     ]
    }
   ],
   "source": [
    "\"\"\"\n",
    "DON'T MODIFY ANYTHING IN THIS CELL THAT IS BELOW THIS LINE\n",
    "\"\"\"\n",
    "from urllib.request import urlretrieve\n",
    "from os.path import isfile, isdir\n",
    "from tqdm import tqdm\n",
    "import problem_unittests as tests\n",
    "import tarfile\n",
    "\n",
    "cifar10_dataset_folder_path = 'cifar-10-batches-py'\n",
    "\n",
    "class DLProgress(tqdm):\n",
    "    last_block = 0\n",
    "\n",
    "    def hook(self, block_num=1, block_size=1, total_size=None):\n",
    "        self.total = total_size\n",
    "        self.update((block_num - self.last_block) * block_size)\n",
    "        self.last_block = block_num\n",
    "\n",
    "if not isfile('cifar-10-python.tar.gz'):\n",
    "    with DLProgress(unit='B', unit_scale=True, miniters=1, desc='CIFAR-10 Dataset') as pbar:\n",
    "        urlretrieve(\n",
    "            'https://www.cs.toronto.edu/~kriz/cifar-10-python.tar.gz',\n",
    "            'cifar-10-python.tar.gz',\n",
    "            pbar.hook)\n",
    "\n",
    "if not isdir(cifar10_dataset_folder_path):\n",
    "    with tarfile.open('cifar-10-python.tar.gz') as tar:\n",
    "        tar.extractall()\n",
    "        tar.close()\n",
    "\n",
    "\n",
    "tests.test_folder_path(cifar10_dataset_folder_path)"
   ]
  },
  {
   "cell_type": "markdown",
   "metadata": {
    "deletable": true,
    "editable": true
   },
   "source": [
    "## Explore the Data\n",
    "The dataset is broken into batches to prevent your machine from running out of memory.  The CIFAR-10 dataset consists of 5 batches, named `data_batch_1`, `data_batch_2`, etc.. Each batch contains the labels and images that are one of the following:\n",
    "* airplane\n",
    "* automobile\n",
    "* bird\n",
    "* cat\n",
    "* deer\n",
    "* dog\n",
    "* frog\n",
    "* horse\n",
    "* ship\n",
    "* truck\n",
    "\n",
    "Understanding a dataset is part of making predictions on the data.  Play around with the code cell below by changing the `batch_id` and `sample_id`. The `batch_id` is the id for a batch (1-5). The `sample_id` is the id for a image and label pair in the batch.\n",
    "\n",
    "Ask yourself \"What are all possible labels?\", \"What is the range of values for the image data?\", \"Are the labels in order or random?\".  Answers to questions like these will help you preprocess the data and end up with better predictions."
   ]
  },
  {
   "cell_type": "code",
   "execution_count": 2,
   "metadata": {
    "collapsed": false,
    "deletable": true,
    "editable": true
   },
   "outputs": [
    {
     "name": "stdout",
     "output_type": "stream",
     "text": [
      "\n",
      "Stats of batch 1:\n",
      "Samples: 10000\n",
      "Label Counts: {0: 1005, 1: 974, 2: 1032, 3: 1016, 4: 999, 5: 937, 6: 1030, 7: 1001, 8: 1025, 9: 981}\n",
      "First 20 Labels: [6, 9, 9, 4, 1, 1, 2, 7, 8, 3, 4, 7, 7, 2, 9, 9, 9, 3, 2, 6]\n",
      "\n",
      "Example of Image 5:\n",
      "Image - Min Value: 0 Max Value: 252\n",
      "Image - Shape: (32, 32, 3)\n",
      "Label - Label Id: 1 Name: automobile\n"
     ]
    },
    {
     "data": {
      "image/png": "[encoded data removed]",
      "text/plain": [
       "<matplotlib.figure.Figure at 0x7f8a4e09d470>"
      ]
     },
     "metadata": {
      "image/png": {
       "height": 250,
       "width": 253
      }
     },
     "output_type": "display_data"
    }
   ],
   "source": [
    "%matplotlib inline\n",
    "%config InlineBackend.figure_format = 'retina'\n",
    "\n",
    "import helper\n",
    "import numpy as np\n",
    "\n",
    "# Explore the dataset\n",
    "batch_id = 1\n",
    "sample_id = 5\n",
    "helper.display_stats(cifar10_dataset_folder_path, batch_id, sample_id)"
   ]
  },
  {
   "cell_type": "markdown",
   "metadata": {
    "deletable": true,
    "editable": true
   },
   "source": [
    "## Implement Preprocess Functions\n",
    "### Normalize\n",
    "In the cell below, implement the `normalize` function to take in image data, `x`, and return it as a normalized Numpy array. The values should be in the range of 0 to 1, inclusive.  The return object should be the same shape as `x`."
   ]
  },
  {
   "cell_type": "code",
   "execution_count": 3,
   "metadata": {
    "collapsed": false,
    "deletable": true,
    "editable": true
   },
   "outputs": [
    {
     "name": "stdout",
     "output_type": "stream",
     "text": [
      "Tests Passed\n"
     ]
    }
   ],
   "source": [
    "def normalize(x):\n",
    "    \"\"\"\n",
    "    Normalize a list of sample image data in the range of 0 to 1\n",
    "    : x: List of image data.  The image shape is (32, 32, 3)\n",
    "    : return: Numpy array of normalize data\n",
    "    \"\"\"\n",
    "    # TODO: Implement Function\n",
    "    return np.array((x/255.0))\n",
    "\n",
    "\n",
    "\"\"\"\n",
    "DON'T MODIFY ANYTHING IN THIS CELL THAT IS BELOW THIS LINE\n",
    "\"\"\"\n",
    "tests.test_normalize(normalize)"
   ]
  },
  {
   "cell_type": "markdown",
   "metadata": {
    "deletable": true,
    "editable": true
   },
   "source": [
    "### One-hot encode\n",
    "Just like the previous code cell, you'll be implementing a function for preprocessing.  This time, you'll implement the `one_hot_encode` function. The input, `x`, are a list of labels.  Implement the function to return the list of labels as One-Hot encoded Numpy array.  The possible values for labels are 0 to 9. The one-hot encoding function should return the same encoding for each value between each call to `one_hot_encode`.  Make sure to save the map of encodings outside the function.\n",
    "\n",
    "Hint: Don't reinvent the wheel."
   ]
  },
  {
   "cell_type": "code",
   "execution_count": 4,
   "metadata": {
    "collapsed": false,
    "deletable": true,
    "editable": true
   },
   "outputs": [
    {
     "name": "stdout",
     "output_type": "stream",
     "text": [
      "Tests Passed\n"
     ]
    }
   ],
   "source": [
    "from sklearn import preprocessing\n",
    "label = None\n",
    "\n",
    "def one_hot_encode(x):\n",
    "    \"\"\"\n",
    "    One hot encode a list of sample labels. Return a one-hot encoded vector for each label.\n",
    "    : x: List of sample Labels\n",
    "    : return: Numpy array of one-hot encoded labels\n",
    "    \"\"\"\n",
    "    # TODO: Implement Function\n",
    "    global label\n",
    "    if label is None:\n",
    "        label = preprocessing.LabelBinarizer()\n",
    "        label.fit(x)\n",
    "    one_hot_encoding = label.transform(x)\n",
    "    return one_hot_encoding\n",
    "\n",
    "\n",
    "\"\"\"\n",
    "DON'T MODIFY ANYTHING IN THIS CELL THAT IS BELOW THIS LINE\n",
    "\"\"\"\n",
    "tests.test_one_hot_encode(one_hot_encode)"
   ]
  },
  {
   "cell_type": "markdown",
   "metadata": {
    "deletable": true,
    "editable": true
   },
   "source": [
    "### Randomize Data\n",
    "As you saw from exploring the data above, the order of the samples are randomized.  It doesn't hurt to randomize it again, but you don't need to for this dataset."
   ]
  },
  {
   "cell_type": "markdown",
   "metadata": {
    "deletable": true,
    "editable": true
   },
   "source": [
    "## Preprocess all the data and save it\n",
    "Running the code cell below will preprocess all the CIFAR-10 data and save it to file. The code below also uses 10% of the training data for validation."
   ]
  },
  {
   "cell_type": "code",
   "execution_count": 5,
   "metadata": {
    "collapsed": false,
    "deletable": true,
    "editable": true
   },
   "outputs": [],
   "source": [
    "\"\"\"\n",
    "DON'T MODIFY ANYTHING IN THIS CELL\n",
    "\"\"\"\n",
    "# Preprocess Training, Validation, and Testing Data\n",
    "helper.preprocess_and_save_data(cifar10_dataset_folder_path, normalize, one_hot_encode)"
   ]
  },
  {
   "cell_type": "markdown",
   "metadata": {
    "deletable": true,
    "editable": true
   },
   "source": [
    "# Check Point\n",
    "This is your first checkpoint.  If you ever decide to come back to this notebook or have to restart the notebook, you can start from here.  The preprocessed data has been saved to disk."
   ]
  },
  {
   "cell_type": "code",
   "execution_count": 6,
   "metadata": {
    "collapsed": true,
    "deletable": true,
    "editable": true
   },
   "outputs": [],
   "source": [
    "\"\"\"\n",
    "DON'T MODIFY ANYTHING IN THIS CELL\n",
    "\"\"\"\n",
    "import pickle\n",
    "import problem_unittests as tests\n",
    "import helper\n",
    "\n",
    "# Load the Preprocessed Validation data\n",
    "valid_features, valid_labels = pickle.load(open('preprocess_validation.p', mode='rb'))"
   ]
  },
  {
   "cell_type": "markdown",
   "metadata": {
    "deletable": true,
    "editable": true
   },
   "source": [
    "## Build the network\n",
    "For the neural network, you'll build each layer into a function.  Most of the code you've seen has been outside of functions. To test your code more thoroughly, we require that you put each layer in a function.  This allows us to give you better feedback and test for simple mistakes using our unittests before you submit your project.\n",
    "\n",
    ">**Note:** If you're finding it hard to dedicate enough time for this course each week, we've provided a small shortcut to this part of the project. In the next couple of problems, you'll have the option to use classes from the [TensorFlow Layers](https://www.tensorflow.org/api_docs/python/tf/layers) or [TensorFlow Layers (contrib)](https://www.tensorflow.org/api_guides/python/contrib.layers) packages to build each layer, except the layers you build in the \"Convolutional and Max Pooling Layer\" section.  TF Layers is similar to Keras's and TFLearn's abstraction to layers, so it's easy to pickup.\n",
    "\n",
    ">However, if you would like to get the most out of this course, try to solve all the problems _without_ using anything from the TF Layers packages. You **can** still use classes from other packages that happen to have the same name as ones you find in TF Layers! For example, instead of using the TF Layers version of the `conv2d` class, [tf.layers.conv2d](https://www.tensorflow.org/api_docs/python/tf/layers/conv2d), you would want to use the TF Neural Network version of `conv2d`, [tf.nn.conv2d](https://www.tensorflow.org/api_docs/python/tf/nn/conv2d). \n",
    "\n",
    "Let's begin!\n",
    "\n",
    "### Input\n",
    "The neural network needs to read the image data, one-hot encoded labels, and dropout keep probability. Implement the following functions\n",
    "* Implement `neural_net_image_input`\n",
    " * Return a [TF Placeholder](https://www.tensorflow.org/api_docs/python/tf/placeholder)\n",
    " * Set the shape using `image_shape` with batch size set to `None`.\n",
    " * Name the TensorFlow placeholder \"x\" using the TensorFlow `name` parameter in the [TF Placeholder](https://www.tensorflow.org/api_docs/python/tf/placeholder).\n",
    "* Implement `neural_net_label_input`\n",
    " * Return a [TF Placeholder](https://www.tensorflow.org/api_docs/python/tf/placeholder)\n",
    " * Set the shape using `n_classes` with batch size set to `None`.\n",
    " * Name the TensorFlow placeholder \"y\" using the TensorFlow `name` parameter in the [TF Placeholder](https://www.tensorflow.org/api_docs/python/tf/placeholder).\n",
    "* Implement `neural_net_keep_prob_input`\n",
    " * Return a [TF Placeholder](https://www.tensorflow.org/api_docs/python/tf/placeholder) for dropout keep probability.\n",
    " * Name the TensorFlow placeholder \"keep_prob\" using the TensorFlow `name` parameter in the [TF Placeholder](https://www.tensorflow.org/api_docs/python/tf/placeholder).\n",
    "\n",
    "These names will be used at the end of the project to load your saved model.\n",
    "\n",
    "Note: `None` for shapes in TensorFlow allow for a dynamic size."
   ]
  },
  {
   "cell_type": "code",
   "execution_count": 7,
   "metadata": {
    "collapsed": false,
    "deletable": true,
    "editable": true
   },
   "outputs": [
    {
     "name": "stdout",
     "output_type": "stream",
     "text": [
      "Image Input Tests Passed.\n",
      "Label Input Tests Passed.\n",
      "Keep Prob Tests Passed.\n"
     ]
    }
   ],
   "source": [
    "import tensorflow as tf\n",
    "\n",
    "def neural_net_image_input(image_shape):\n",
    "    \"\"\"\n",
    "    Return a Tensor for a batch of image input\n",
    "    : image_shape: Shape of the images\n",
    "    : return: Tensor for image input.\n",
    "    \"\"\"\n",
    "    # TODO: Implement Function\n",
    "    x = tf.placeholder(tf.float32, shape = [None, *image_shape], name = \"x\")\n",
    "    return x\n",
    "\n",
    "\n",
    "def neural_net_label_input(n_classes):\n",
    "    \"\"\"\n",
    "    Return a Tensor for a batch of label input\n",
    "    : n_classes: Number of classes\n",
    "    : return: Tensor for label input.\n",
    "    \"\"\"\n",
    "    # TODO: Implement Function\n",
    "    y = tf.placeholder(tf.float32, [None, n_classes], name = \"y\")\n",
    "    return y\n",
    "\n",
    "\n",
    "def neural_net_keep_prob_input():\n",
    "    \"\"\"\n",
    "    Return a Tensor for keep probability\n",
    "    : return: Tensor for keep probability.\n",
    "    \"\"\"\n",
    "    # TODO: Implement Function\n",
    "    keep_prob = tf.placeholder(tf.float32, name = \"keep_prob\")\n",
    "    return keep_prob\n",
    "\n",
    "\"\"\"\n",
    "DON'T MODIFY ANYTHING IN THIS CELL THAT IS BELOW THIS LINE\n",
    "\"\"\"\n",
    "tf.reset_default_graph()\n",
    "tests.test_nn_image_inputs(neural_net_image_input)\n",
    "tests.test_nn_label_inputs(neural_net_label_input)\n",
    "tests.test_nn_keep_prob_inputs(neural_net_keep_prob_input)"
   ]
  },
  {
   "cell_type": "markdown",
   "metadata": {
    "deletable": true,
    "editable": true
   },
   "source": [
    "### Convolution and Max Pooling Layer\n",
    "Convolution layers have a lot of success with images. For this code cell, you should implement the function `conv2d_maxpool` to apply convolution then max pooling:\n",
    "* Create the weight and bias using `conv_ksize`, `conv_num_outputs` and the shape of `x_tensor`.\n",
    "* Apply a convolution to `x_tensor` using weight and `conv_strides`.\n",
    " * We recommend you use same padding, but you're welcome to use any padding.\n",
    "* Add bias\n",
    "* Add a nonlinear activation to the convolution.\n",
    "* Apply Max Pooling using `pool_ksize` and `pool_strides`.\n",
    " * We recommend you use same padding, but you're welcome to use any padding.\n",
    "\n",
    "**Note:** You **can't** use [TensorFlow Layers](https://www.tensorflow.org/api_docs/python/tf/layers) or [TensorFlow Layers (contrib)](https://www.tensorflow.org/api_guides/python/contrib.layers) for **this** layer, but you can still use TensorFlow's [Neural Network](https://www.tensorflow.org/api_docs/python/tf/nn) package. You may still use the shortcut option for all the **other** layers."
   ]
  },
  {
   "cell_type": "code",
   "execution_count": 8,
   "metadata": {
    "collapsed": false,
    "deletable": true,
    "editable": true
   },
   "outputs": [
    {
     "name": "stdout",
     "output_type": "stream",
     "text": [
      "Tests Passed\n"
     ]
    }
   ],
   "source": [
    "def conv2d_maxpool(x_tensor, conv_num_outputs, conv_ksize, conv_strides, pool_ksize, pool_strides):\n",
    "    \"\"\"\n",
    "    Apply convolution then max pooling to x_tensor\n",
    "    :param x_tensor: TensorFlow Tensor\n",
    "    :param conv_num_outputs: Number of outputs for the convolutional layer\n",
    "    :param conv_ksize: kernal size 2-D Tuple for the convolutional layer\n",
    "    :param conv_strides: Stride 2-D Tuple for convolution\n",
    "    :param pool_ksize: kernal size 2-D Tuple for pool\n",
    "    :param pool_strides: Stride 2-D Tuple for pool\n",
    "    : return: A tensor that represents convolution and max pooling of x_tensor\n",
    "    \"\"\"\n",
    "    # TODO: Implement Function\n",
    "    input_height = x_tensor.get_shape().as_list()[1]\n",
    "    input_width = x_tensor.get_shape().as_list()[2]\n",
    "    input_depth = x_tensor.get_shape().as_list()[3]\n",
    "    \n",
    "    conv_x_stride = conv_strides[0]\n",
    "    conv_y_stride = conv_strides[1]\n",
    "    conv_patch_width = conv_ksize[0]\n",
    "    conv_patch_height = conv_ksize[1]\n",
    "    conv_depth = conv_num_outputs\n",
    "    \n",
    "    pool_patch_width = pool_ksize[0]\n",
    "    pool_patch_height = pool_ksize[1]\n",
    "    pool_x_stride = pool_strides[0]\n",
    "    pool_y_stride = pool_strides[1]\n",
    "\n",
    "    \n",
    "    conv_weight = tf.Variable(tf.truncated_normal([input_width, input_height, input_depth, conv_depth], stddev=0.08))\n",
    "    conv_bias = tf.Variable(tf.zeros([conv_depth]))\n",
    "    \n",
    "    conv2d_layer = tf.nn.conv2d(x_tensor, conv_weight, strides=[1, conv_x_stride, conv_y_stride, 1], padding='SAME')\n",
    "    conv2d_layer = tf.nn.bias_add(conv2d_layer, conv_bias)\n",
    "    conv2d_layer = tf.nn.relu(conv2d_layer)\n",
    "    maxpool_layer = tf.nn.max_pool(conv2d_layer, ksize=[1, pool_patch_width, pool_patch_height, 1], strides=[1, pool_x_stride, pool_y_stride, 1], padding='SAME') \n",
    "    \n",
    "    return maxpool_layer\n",
    "\n",
    "\n",
    "\"\"\"\n",
    "DON'T MODIFY ANYTHING IN THIS CELL THAT IS BELOW THIS LINE\n",
    "\"\"\"\n",
    "tests.test_con_pool(conv2d_maxpool)"
   ]
  },
  {
   "cell_type": "markdown",
   "metadata": {
    "deletable": true,
    "editable": true
   },
   "source": [
    "### Flatten Layer\n",
    "Implement the `flatten` function to change the dimension of `x_tensor` from a 4-D tensor to a 2-D tensor.  The output should be the shape (*Batch Size*, *Flattened Image Size*). Shortcut option: you can use classes from the [TensorFlow Layers](https://www.tensorflow.org/api_docs/python/tf/layers) or [TensorFlow Layers (contrib)](https://www.tensorflow.org/api_guides/python/contrib.layers) packages for this layer. For more of a challenge, only use other TensorFlow packages."
   ]
  },
  {
   "cell_type": "code",
   "execution_count": 9,
   "metadata": {
    "collapsed": false,
    "deletable": true,
    "editable": true
   },
   "outputs": [
    {
     "name": "stdout",
     "output_type": "stream",
     "text": [
      "Tests Passed\n"
     ]
    }
   ],
   "source": [
    "def flatten(x_tensor):\n",
    "    \"\"\"\n",
    "    Flatten x_tensor to (Batch Size, Flattened Image Size)\n",
    "    : x_tensor: A tensor of size (Batch Size, ...), where ... are the image dimensions.\n",
    "    : return: A tensor of size (Batch Size, Flattened Image Size).\n",
    "    \"\"\"\n",
    "    # TODO: Implement Function\n",
    "    width = x_tensor.get_shape().as_list()[1]\n",
    "    height = x_tensor.get_shape().as_list()[2]\n",
    "    depth = x_tensor.get_shape().as_list()[3]\n",
    "    \n",
    "    flattened = width*height*depth\n",
    "    \n",
    "    return tf.reshape(x_tensor, [-1, flattened])\n",
    "\n",
    "\n",
    "\"\"\"\n",
    "DON'T MODIFY ANYTHING IN THIS CELL THAT IS BELOW THIS LINE\n",
    "\"\"\"\n",
    "tests.test_flatten(flatten)"
   ]
  },
  {
   "cell_type": "markdown",
   "metadata": {
    "deletable": true,
    "editable": true
   },
   "source": [
    "### Fully-Connected Layer\n",
    "Implement the `fully_conn` function to apply a fully connected layer to `x_tensor` with the shape (*Batch Size*, *num_outputs*). Shortcut option: you can use classes from the [TensorFlow Layers](https://www.tensorflow.org/api_docs/python/tf/layers) or [TensorFlow Layers (contrib)](https://www.tensorflow.org/api_guides/python/contrib.layers) packages for this layer. For more of a challenge, only use other TensorFlow packages."
   ]
  },
  {
   "cell_type": "code",
   "execution_count": 10,
   "metadata": {
    "collapsed": false,
    "deletable": true,
    "editable": true
   },
   "outputs": [
    {
     "name": "stdout",
     "output_type": "stream",
     "text": [
      "Tensor(\"Variable_2/read:0\", shape=(128, 40), dtype=float32)\n",
      "Tensor(\"Variable_3/read:0\", shape=(40,), dtype=float32)\n",
      "Tests Passed\n"
     ]
    }
   ],
   "source": [
    "def fully_conn(x_tensor, num_outputs):\n",
    "    \"\"\"\n",
    "    Apply a fully connected layer to x_tensor using weight and bias\n",
    "    : x_tensor: A 2-D tensor where the first dimension is batch size.\n",
    "    : num_outputs: The number of output that the new tensor should be.\n",
    "    : return: A 2-D tensor where the second dimension is num_outputs.\n",
    "    \"\"\"\n",
    "    # TODO: Implement Function\n",
    "    batch = x_tensor.get_shape().as_list()[0]\n",
    "    num_inputs = x_tensor.get_shape().as_list()[1]\n",
    "    \n",
    "    weights = tf.Variable(tf.truncated_normal([num_inputs, num_outputs], stddev=0.08))\n",
    "    print(weights)\n",
    "    bias = tf.Variable(tf.zeros(num_outputs))\n",
    "    print(bias)\n",
    "    fc = tf.add(tf.matmul(x_tensor, weights), bias)\n",
    "\n",
    "    fc = tf.nn.relu(fc)\n",
    "    \n",
    "    return fc\n",
    "\n",
    "\n",
    "\"\"\"\n",
    "DON'T MODIFY ANYTHING IN THIS CELL THAT IS BELOW THIS LINE\n",
    "\"\"\"\n",
    "tests.test_fully_conn(fully_conn)"
   ]
  },
  {
   "cell_type": "markdown",
   "metadata": {
    "deletable": true,
    "editable": true
   },
   "source": [
    "### Output Layer\n",
    "Implement the `output` function to apply a fully connected layer to `x_tensor` with the shape (*Batch Size*, *num_outputs*). Shortcut option: you can use classes from the [TensorFlow Layers](https://www.tensorflow.org/api_docs/python/tf/layers) or [TensorFlow Layers (contrib)](https://www.tensorflow.org/api_guides/python/contrib.layers) packages for this layer. For more of a challenge, only use other TensorFlow packages.\n",
    "\n",
    "**Note:** Activation, softmax, or cross entropy should **not** be applied to this."
   ]
  },
  {
   "cell_type": "code",
   "execution_count": 11,
   "metadata": {
    "collapsed": false,
    "deletable": true,
    "editable": true
   },
   "outputs": [
    {
     "name": "stdout",
     "output_type": "stream",
     "text": [
      "Tensor(\"Variable_4/read:0\", shape=(128, 40), dtype=float32)\n",
      "Tensor(\"Variable_5/read:0\", shape=(40,), dtype=float32)\n",
      "Tensor(\"Add_1:0\", shape=(?, 40), dtype=float32)\n",
      "Tests Passed\n"
     ]
    }
   ],
   "source": [
    "def output(x_tensor, num_outputs):\n",
    "    \"\"\"\n",
    "    Apply a output layer to x_tensor using weight and bias\n",
    "    : x_tensor: A 2-D tensor where the first dimension is batch size.\n",
    "    : num_outputs: The number of output that the new tensor should be.\n",
    "    : return: A 2-D tensor where the second dimension is num_outputs.\n",
    "    \"\"\"\n",
    "    # TODO: Implement Function\n",
    "    batch = x_tensor.get_shape().as_list()[0]\n",
    "    num_inputs = x_tensor.get_shape().as_list()[1]\n",
    "    \n",
    "    weights = tf.Variable(tf.truncated_normal([num_inputs, num_outputs], stddev=0.08))\n",
    "    print(weights)\n",
    "    bias = tf.Variable(tf.zeros(num_outputs))\n",
    "    print(bias)\n",
    "    out = tf.add(tf.matmul(x_tensor, weights), bias)\n",
    "    print(out)\n",
    "    \n",
    "    return out\n",
    "\n",
    "\n",
    "\"\"\"\n",
    "DON'T MODIFY ANYTHING IN THIS CELL THAT IS BELOW THIS LINE\n",
    "\"\"\"\n",
    "tests.test_output(output)"
   ]
  },
  {
   "cell_type": "markdown",
   "metadata": {
    "deletable": true,
    "editable": true
   },
   "source": [
    "### Create Convolutional Model\n",
    "Implement the function `conv_net` to create a convolutional neural network model. The function takes in a batch of images, `x`, and outputs logits.  Use the layers you created above to create this model:\n",
    "\n",
    "* Apply 1, 2, or 3 Convolution and Max Pool layers\n",
    "* Apply a Flatten Layer\n",
    "* Apply 1, 2, or 3 Fully Connected Layers\n",
    "* Apply an Output Layer\n",
    "* Return the output\n",
    "* Apply [TensorFlow's Dropout](https://www.tensorflow.org/api_docs/python/tf/nn/dropout) to one or more layers in the model using `keep_prob`. "
   ]
  },
  {
   "cell_type": "code",
   "execution_count": 12,
   "metadata": {
    "collapsed": false,
    "deletable": true,
    "editable": true
   },
   "outputs": [
    {
     "name": "stdout",
     "output_type": "stream",
     "text": [
      "Tensor(\"Variable_6/read:0\", shape=(4096, 128), dtype=float32)\n",
      "Tensor(\"Variable_7/read:0\", shape=(128,), dtype=float32)\n",
      "Tensor(\"Variable_8/read:0\", shape=(128, 128), dtype=float32)\n",
      "Tensor(\"Variable_9/read:0\", shape=(128,), dtype=float32)\n",
      "Tensor(\"Variable_10/read:0\", shape=(128, 256), dtype=float32)\n",
      "Tensor(\"Variable_11/read:0\", shape=(256,), dtype=float32)\n",
      "Tensor(\"Variable_12/read:0\", shape=(256, 10), dtype=float32)\n",
      "Tensor(\"Variable_13/read:0\", shape=(10,), dtype=float32)\n",
      "Tensor(\"Add_3:0\", shape=(?, 10), dtype=float32)\n",
      "Tensor(\"Variable_20/read:0\", shape=(4096, 128), dtype=float32)\n",
      "Tensor(\"Variable_21/read:0\", shape=(128,), dtype=float32)\n",
      "Tensor(\"Variable_22/read:0\", shape=(128, 128), dtype=float32)\n",
      "Tensor(\"Variable_23/read:0\", shape=(128,), dtype=float32)\n",
      "Tensor(\"Variable_24/read:0\", shape=(128, 256), dtype=float32)\n",
      "Tensor(\"Variable_25/read:0\", shape=(256,), dtype=float32)\n",
      "Tensor(\"Variable_26/read:0\", shape=(256, 10), dtype=float32)\n",
      "Tensor(\"Variable_27/read:0\", shape=(10,), dtype=float32)\n",
      "Tensor(\"Add_7:0\", shape=(?, 10), dtype=float32)\n",
      "Neural Network Built!\n"
     ]
    }
   ],
   "source": [
    "def conv_net(x, keep_prob):\n",
    "    \"\"\"\n",
    "    Create a convolutional neural network model\n",
    "    : x: Placeholder tensor that holds image data.\n",
    "    : keep_prob: Placeholder tensor that hold dropout keep probability.\n",
    "    : return: Tensor that represents logits\n",
    "    \"\"\"\n",
    "    # TODO: Apply 1, 2, or 3 Convolution and Max Pool layers\n",
    "    #    Play around with different number of outputs, kernel size and stride\n",
    "    # Function Definition from Above:\n",
    "    #    conv2d_maxpool(x_tensor, conv_num_outputs, conv_ksize, conv_strides, pool_ksize, pool_strides)\n",
    "    layer = conv2d_maxpool(x, 128, (3,3), (2,2), (2,2), (1,1))\n",
    "    layer_two = conv2d_maxpool(layer, 128, (3,3), (2,2), (2,2), (1,1))\n",
    "    layer_three = conv2d_maxpool(layer_two, 256, (3,3), (2,2), (2,2), (1,1))\n",
    "\n",
    "    # TODO: Apply a Flatten Layer\n",
    "    # Function Definition from Above:\n",
    "    #   flatten(x_tensor)\n",
    "    flattened = flatten(layer_three)\n",
    "\n",
    "    # TODO: Apply 1, 2, or 3 Fully Connected Layers\n",
    "    #    Play around with different number of outputs\n",
    "    # Function Definition from Above:\n",
    "    #   fully_conn(x_tensor, num_outputs)\n",
    "    fc_one = fully_conn(flattened, 128)\n",
    "    fc_two = fully_conn(fc_one, 128)\n",
    "    fc_three = fully_conn(fc_two, 256)\n",
    "    \n",
    "    # TODO: Apply an Output Layer\n",
    "    #    Set this to the number of classes\n",
    "    # Function Definition from Above:\n",
    "    #   output(x_tensor, num_outputs)\n",
    "    final = output(fc_three, 10)\n",
    "    \n",
    "    # TODO: return output\n",
    "    return final\n",
    "\n",
    "\n",
    "\"\"\"\n",
    "DON'T MODIFY ANYTHING IN THIS CELL THAT IS BELOW THIS LINE\n",
    "\"\"\"\n",
    "\n",
    "##############################\n",
    "## Build the Neural Network ##\n",
    "##############################\n",
    "\n",
    "# Remove previous weights, bias, inputs, etc..\n",
    "tf.reset_default_graph()\n",
    "\n",
    "# Inputs\n",
    "x = neural_net_image_input((32, 32, 3))\n",
    "y = neural_net_label_input(10)\n",
    "keep_prob = neural_net_keep_prob_input()\n",
    "\n",
    "# Model\n",
    "logits = conv_net(x, keep_prob)\n",
    "\n",
    "# Name logits Tensor, so that is can be loaded from disk after training\n",
    "logits = tf.identity(logits, name='logits')\n",
    "\n",
    "# Loss and Optimizer\n",
    "cost = tf.reduce_mean(tf.nn.softmax_cross_entropy_with_logits(logits=logits, labels=y))\n",
    "optimizer = tf.train.AdamOptimizer().minimize(cost)\n",
    "\n",
    "# Accuracy\n",
    "correct_pred = tf.equal(tf.argmax(logits, 1), tf.argmax(y, 1))\n",
    "accuracy = tf.reduce_mean(tf.cast(correct_pred, tf.float32), name='accuracy')\n",
    "\n",
    "tests.test_conv_net(conv_net)"
   ]
  },
  {
   "cell_type": "markdown",
   "metadata": {
    "deletable": true,
    "editable": true
   },
   "source": [
    "## Train the Neural Network\n",
    "### Single Optimization\n",
    "Implement the function `train_neural_network` to do a single optimization.  The optimization should use `optimizer` to optimize in `session` with a `feed_dict` of the following:\n",
    "* `x` for image input\n",
    "* `y` for labels\n",
    "* `keep_prob` for keep probability for dropout\n",
    "\n",
    "This function will be called for each batch, so `tf.global_variables_initializer()` has already been called.\n",
    "\n",
    "Note: Nothing needs to be returned. This function is only optimizing the neural network."
   ]
  },
  {
   "cell_type": "code",
   "execution_count": 13,
   "metadata": {
    "collapsed": false,
    "deletable": true,
    "editable": true
   },
   "outputs": [
    {
     "name": "stdout",
     "output_type": "stream",
     "text": [
      "Tests Passed\n"
     ]
    }
   ],
   "source": [
    "def train_neural_network(session, optimizer, keep_probability, feature_batch, label_batch):\n",
    "    \"\"\"\n",
    "    Optimize the session on a batch of images and labels\n",
    "    : session: Current TensorFlow session\n",
    "    : optimizer: TensorFlow optimizer function\n",
    "    : keep_probability: keep probability\n",
    "    : feature_batch: Batch of Numpy image data\n",
    "    : label_batch: Batch of Numpy label data\n",
    "    \"\"\"\n",
    "    # TODO: Implement Function\n",
    "    session.run(optimizer, feed_dict={x:feature_batch, y: label_batch, keep_prob: keep_probability})\n",
    "\n",
    "\n",
    "\"\"\"\n",
    "DON'T MODIFY ANYTHING IN THIS CELL THAT IS BELOW THIS LINE\n",
    "\"\"\"\n",
    "tests.test_train_nn(train_neural_network)"
   ]
  },
  {
   "cell_type": "markdown",
   "metadata": {
    "deletable": true,
    "editable": true
   },
   "source": [
    "### Show Stats\n",
    "Implement the function `print_stats` to print loss and validation accuracy.  Use the global variables `valid_features` and `valid_labels` to calculate validation accuracy.  Use a keep probability of `1.0` to calculate the loss and validation accuracy."
   ]
  },
  {
   "cell_type": "code",
   "execution_count": 14,
   "metadata": {
    "collapsed": false,
    "deletable": true,
    "editable": true
   },
   "outputs": [],
   "source": [
    "def print_stats(session, feature_batch, label_batch, cost, accuracy):\n",
    "    \"\"\"\n",
    "    Print information about loss and validation accuracy\n",
    "    : session: Current TensorFlow session\n",
    "    : feature_batch: Batch of Numpy image data\n",
    "    : label_batch: Batch of Numpy label data\n",
    "    : cost: TensorFlow cost function\n",
    "    : accuracy: TensorFlow accuracy function\n",
    "    \"\"\"\n",
    "    # TODO: Implement Function\n",
    "    print('')\n",
    "    \n",
    "    feed_dict_train = {x: feature_batch, y: label_batch, keep_prob:1.0}\n",
    "    cost = session.run(cost, feed_dict=feed_dict_train)\n",
    "        \n",
    "    accuracy = session.run(accuracy, feed_dict=feed_dict_train)\n",
    "    print('cost:{}'.format(cost))\n",
    "    print('acc:{}'.format(accuracy))"
   ]
  },
  {
   "cell_type": "markdown",
   "metadata": {
    "deletable": true,
    "editable": true
   },
   "source": [
    "### Hyperparameters\n",
    "Tune the following parameters:\n",
    "* Set `epochs` to the number of iterations until the network stops learning or start overfitting\n",
    "* Set `batch_size` to the highest number that your machine has memory for.  Most people set them to common sizes of memory:\n",
    " * 64\n",
    " * 128\n",
    " * 256\n",
    " * ...\n",
    "* Set `keep_probability` to the probability of keeping a node using dropout"
   ]
  },
  {
   "cell_type": "code",
   "execution_count": 15,
   "metadata": {
    "collapsed": true,
    "deletable": true,
    "editable": true
   },
   "outputs": [],
   "source": [
    "# TODO: Tune Parameters\n",
    "epochs = 25\n",
    "batch_size = 256\n",
    "keep_probability = 0.97"
   ]
  },
  {
   "cell_type": "markdown",
   "metadata": {
    "deletable": true,
    "editable": true
   },
   "source": [
    "### Train on a Single CIFAR-10 Batch\n",
    "Instead of training the neural network on all the CIFAR-10 batches of data, let's use a single batch. This should save time while you iterate on the model to get a better accuracy.  Once the final validation accuracy is 50% or greater, run the model on all the data in the next section."
   ]
  },
  {
   "cell_type": "code",
   "execution_count": 16,
   "metadata": {
    "collapsed": false,
    "deletable": true,
    "editable": true
   },
   "outputs": [
    {
     "name": "stdout",
     "output_type": "stream",
     "text": [
      "Checking the Training on a Single Batch...\n",
      "Epoch  1, CIFAR-10 Batch 1:  \n",
      "cost:2.2346408367156982\n",
      "acc:0.17499999701976776\n",
      "Epoch  2, CIFAR-10 Batch 1:  \n",
      "cost:2.025937080383301\n",
      "acc:0.25\n",
      "Epoch  3, CIFAR-10 Batch 1:  \n",
      "cost:1.8168482780456543\n",
      "acc:0.42500001192092896\n",
      "Epoch  4, CIFAR-10 Batch 1:  \n",
      "cost:1.4409904479980469\n",
      "acc:0.574999988079071\n",
      "Epoch  5, CIFAR-10 Batch 1:  \n",
      "cost:1.1489875316619873\n",
      "acc:0.6000000238418579\n",
      "Epoch  6, CIFAR-10 Batch 1:  \n",
      "cost:0.9005380868911743\n",
      "acc:0.7000000476837158\n",
      "Epoch  7, CIFAR-10 Batch 1:  \n",
      "cost:0.8276267647743225\n",
      "acc:0.8000000715255737\n",
      "Epoch  8, CIFAR-10 Batch 1:  \n",
      "cost:0.7193127870559692\n",
      "acc:0.7750000357627869\n",
      "Epoch  9, CIFAR-10 Batch 1:  \n",
      "cost:0.6416832208633423\n",
      "acc:0.7500000596046448\n",
      "Epoch 10, CIFAR-10 Batch 1:  \n",
      "cost:0.5281221866607666\n",
      "acc:0.8500000834465027\n",
      "Epoch 11, CIFAR-10 Batch 1:  \n",
      "cost:0.41434577107429504\n",
      "acc:0.925000011920929\n",
      "Epoch 12, CIFAR-10 Batch 1:  \n",
      "cost:0.37307167053222656\n",
      "acc:0.9000000357627869\n",
      "Epoch 13, CIFAR-10 Batch 1:  \n",
      "cost:0.3600771129131317\n",
      "acc:0.8500000834465027\n",
      "Epoch 14, CIFAR-10 Batch 1:  \n",
      "cost:0.22735695540905\n",
      "acc:0.9749999642372131\n",
      "Epoch 15, CIFAR-10 Batch 1:  \n",
      "cost:0.16226036846637726\n",
      "acc:1.0\n",
      "Epoch 16, CIFAR-10 Batch 1:  \n",
      "cost:0.1480749398469925\n",
      "acc:1.0\n",
      "Epoch 17, CIFAR-10 Batch 1:  \n",
      "cost:0.2752014100551605\n",
      "acc:0.949999988079071\n",
      "Epoch 18, CIFAR-10 Batch 1:  \n",
      "cost:0.16959406435489655\n",
      "acc:1.0\n",
      "Epoch 19, CIFAR-10 Batch 1:  \n",
      "cost:0.20659515261650085\n",
      "acc:1.0\n",
      "Epoch 20, CIFAR-10 Batch 1:  \n",
      "cost:0.1111454889178276\n",
      "acc:1.0\n",
      "Epoch 21, CIFAR-10 Batch 1:  \n",
      "cost:0.21702727675437927\n",
      "acc:0.949999988079071\n",
      "Epoch 22, CIFAR-10 Batch 1:  \n",
      "cost:0.12671303749084473\n",
      "acc:0.9749999642372131\n",
      "Epoch 23, CIFAR-10 Batch 1:  \n",
      "cost:0.07497382164001465\n",
      "acc:1.0\n",
      "Epoch 24, CIFAR-10 Batch 1:  \n",
      "cost:0.0949285477399826\n",
      "acc:1.0\n",
      "Epoch 25, CIFAR-10 Batch 1:  \n",
      "cost:0.11412911862134933\n",
      "acc:1.0\n"
     ]
    }
   ],
   "source": [
    "\"\"\"\n",
    "DON'T MODIFY ANYTHING IN THIS CELL\n",
    "\"\"\"\n",
    "print('Checking the Training on a Single Batch...')\n",
    "with tf.Session() as sess:\n",
    "    # Initializing the variables\n",
    "    sess.run(tf.global_variables_initializer())\n",
    "    \n",
    "    # Training cycle\n",
    "    for epoch in range(epochs):\n",
    "        batch_i = 1\n",
    "        for batch_features, batch_labels in helper.load_preprocess_training_batch(batch_i, batch_size):\n",
    "            train_neural_network(sess, optimizer, keep_probability, batch_features, batch_labels)\n",
    "        print('Epoch {:>2}, CIFAR-10 Batch {}:  '.format(epoch + 1, batch_i), end='')\n",
    "        print_stats(sess, batch_features, batch_labels, cost, accuracy)"
   ]
  },
  {
   "cell_type": "markdown",
   "metadata": {
    "deletable": true,
    "editable": true
   },
   "source": [
    "### Fully Train the Model\n",
    "Now that you got a good accuracy with a single CIFAR-10 batch, try it with all five batches."
   ]
  },
  {
   "cell_type": "code",
   "execution_count": 17,
   "metadata": {
    "collapsed": false,
    "deletable": true,
    "editable": true
   },
   "outputs": [
    {
     "name": "stdout",
     "output_type": "stream",
     "text": [
      "Training...\n",
      "Epoch  1, CIFAR-10 Batch 1:  \n",
      "cost:2.2297658920288086\n",
      "acc:0.30000001192092896\n",
      "Epoch  1, CIFAR-10 Batch 2:  \n",
      "cost:2.0919740200042725\n",
      "acc:0.2750000059604645\n",
      "Epoch  1, CIFAR-10 Batch 3:  \n",
      "cost:1.5278339385986328\n",
      "acc:0.5249999761581421\n",
      "Epoch  1, CIFAR-10 Batch 4:  \n",
      "cost:1.6380102634429932\n",
      "acc:0.32500001788139343\n",
      "Epoch  1, CIFAR-10 Batch 5:  \n",
      "cost:1.6418075561523438\n",
      "acc:0.42500001192092896\n",
      "Epoch  2, CIFAR-10 Batch 1:  \n",
      "cost:1.7763344049453735\n",
      "acc:0.45000001788139343\n",
      "Epoch  2, CIFAR-10 Batch 2:  \n",
      "cost:1.5633234977722168\n",
      "acc:0.5249999761581421\n",
      "Epoch  2, CIFAR-10 Batch 3:  \n",
      "cost:1.3279902935028076\n",
      "acc:0.5249999761581421\n",
      "Epoch  2, CIFAR-10 Batch 4:  \n",
      "cost:1.4221277236938477\n",
      "acc:0.45000001788139343\n",
      "Epoch  2, CIFAR-10 Batch 5:  \n",
      "cost:1.52840256690979\n",
      "acc:0.45000001788139343\n",
      "Epoch  3, CIFAR-10 Batch 1:  \n",
      "cost:1.431075930595398\n",
      "acc:0.550000011920929\n",
      "Epoch  3, CIFAR-10 Batch 2:  \n",
      "cost:1.2992438077926636\n",
      "acc:0.625\n",
      "Epoch  3, CIFAR-10 Batch 3:  \n",
      "cost:1.1370337009429932\n",
      "acc:0.550000011920929\n",
      "Epoch  3, CIFAR-10 Batch 4:  \n",
      "cost:1.2587909698486328\n",
      "acc:0.550000011920929\n",
      "Epoch  3, CIFAR-10 Batch 5:  \n",
      "cost:1.3005725145339966\n",
      "acc:0.5249999761581421\n",
      "Epoch  4, CIFAR-10 Batch 1:  \n",
      "cost:1.2620387077331543\n",
      "acc:0.5750000476837158\n",
      "Epoch  4, CIFAR-10 Batch 2:  \n",
      "cost:1.0595289468765259\n",
      "acc:0.625\n",
      "Epoch  4, CIFAR-10 Batch 3:  \n",
      "cost:0.9149954319000244\n",
      "acc:0.675000011920929\n",
      "Epoch  4, CIFAR-10 Batch 4:  \n",
      "cost:0.959439218044281\n",
      "acc:0.75\n",
      "Epoch  4, CIFAR-10 Batch 5:  \n",
      "cost:1.069633960723877\n",
      "acc:0.75\n",
      "Epoch  5, CIFAR-10 Batch 1:  \n",
      "cost:1.0760703086853027\n",
      "acc:0.6499999761581421\n",
      "Epoch  5, CIFAR-10 Batch 2:  \n",
      "cost:0.8311172723770142\n",
      "acc:0.7250000238418579\n",
      "Epoch  5, CIFAR-10 Batch 3:  \n",
      "cost:0.7425596714019775\n",
      "acc:0.7250000238418579\n",
      "Epoch  5, CIFAR-10 Batch 4:  \n",
      "cost:0.709882378578186\n",
      "acc:0.8500000238418579\n",
      "Epoch  5, CIFAR-10 Batch 5:  \n",
      "cost:0.9415082335472107\n",
      "acc:0.7250000238418579\n",
      "Epoch  6, CIFAR-10 Batch 1:  \n",
      "cost:0.9118772745132446\n",
      "acc:0.8250000476837158\n",
      "Epoch  6, CIFAR-10 Batch 2:  \n",
      "cost:0.689569354057312\n",
      "acc:0.8500000238418579\n",
      "Epoch  6, CIFAR-10 Batch 3:  \n",
      "cost:0.5832959413528442\n",
      "acc:0.8750000596046448\n",
      "Epoch  6, CIFAR-10 Batch 4:  \n",
      "cost:0.6449424028396606\n",
      "acc:0.8999999761581421\n",
      "Epoch  6, CIFAR-10 Batch 5:  \n",
      "cost:0.7606552839279175\n",
      "acc:0.800000011920929\n",
      "Epoch  7, CIFAR-10 Batch 1:  \n",
      "cost:0.7864066958427429\n",
      "acc:0.824999988079071\n",
      "Epoch  7, CIFAR-10 Batch 2:  \n",
      "cost:0.5852868556976318\n",
      "acc:0.8500000834465027\n",
      "Epoch  7, CIFAR-10 Batch 3:  \n",
      "cost:0.5210505127906799\n",
      "acc:0.949999988079071\n",
      "Epoch  7, CIFAR-10 Batch 4:  \n",
      "cost:0.6031908392906189\n",
      "acc:0.8500000238418579\n",
      "Epoch  7, CIFAR-10 Batch 5:  \n",
      "cost:0.6402605772018433\n",
      "acc:0.925000011920929\n",
      "Epoch  8, CIFAR-10 Batch 1:  \n",
      "cost:0.5599185824394226\n",
      "acc:0.8750000596046448\n",
      "Epoch  8, CIFAR-10 Batch 2:  \n",
      "cost:0.5317322015762329\n",
      "acc:0.9000000357627869\n",
      "Epoch  8, CIFAR-10 Batch 3:  \n",
      "cost:0.4161807596683502\n",
      "acc:0.9749999642372131\n",
      "Epoch  8, CIFAR-10 Batch 4:  \n",
      "cost:0.4983823299407959\n",
      "acc:0.8999999761581421\n",
      "Epoch  8, CIFAR-10 Batch 5:  \n",
      "cost:0.5543929934501648\n",
      "acc:0.8750000596046448\n",
      "Epoch  9, CIFAR-10 Batch 1:  \n",
      "cost:0.5250238180160522\n",
      "acc:0.9000000357627869\n",
      "Epoch  9, CIFAR-10 Batch 2:  \n",
      "cost:0.5240256786346436\n",
      "acc:0.8250000476837158\n",
      "Epoch  9, CIFAR-10 Batch 3:  \n",
      "cost:0.36072754859924316\n",
      "acc:1.0\n",
      "Epoch  9, CIFAR-10 Batch 4:  \n",
      "cost:0.44808992743492126\n",
      "acc:0.925000011920929\n",
      "Epoch  9, CIFAR-10 Batch 5:  \n",
      "cost:0.47254127264022827\n",
      "acc:0.925000011920929\n",
      "Epoch 10, CIFAR-10 Batch 1:  \n",
      "cost:0.4438095986843109\n",
      "acc:0.9000000357627869\n",
      "Epoch 10, CIFAR-10 Batch 2:  \n",
      "cost:0.3824625611305237\n",
      "acc:0.925000011920929\n",
      "Epoch 10, CIFAR-10 Batch 3:  \n",
      "cost:0.343723863363266\n",
      "acc:0.949999988079071\n",
      "Epoch 10, CIFAR-10 Batch 4:  \n",
      "cost:0.4157875180244446\n",
      "acc:0.925000011920929\n",
      "Epoch 10, CIFAR-10 Batch 5:  \n",
      "cost:0.4899289011955261\n",
      "acc:0.9000000357627869\n",
      "Epoch 11, CIFAR-10 Batch 1:  \n",
      "cost:0.2803601920604706\n",
      "acc:0.9749999642372131\n",
      "Epoch 11, CIFAR-10 Batch 2:  \n",
      "cost:0.2995697259902954\n",
      "acc:0.9000000357627869\n",
      "Epoch 11, CIFAR-10 Batch 3:  \n",
      "cost:0.26791685819625854\n",
      "acc:0.9749999642372131\n",
      "Epoch 11, CIFAR-10 Batch 4:  \n",
      "cost:0.43169763684272766\n",
      "acc:0.925000011920929\n",
      "Epoch 11, CIFAR-10 Batch 5:  \n",
      "cost:0.3986537754535675\n",
      "acc:0.925000011920929\n",
      "Epoch 12, CIFAR-10 Batch 1:  \n",
      "cost:0.31216567754745483\n",
      "acc:0.9000000357627869\n",
      "Epoch 12, CIFAR-10 Batch 2:  \n",
      "cost:0.2734123468399048\n",
      "acc:0.9750000238418579\n",
      "Epoch 12, CIFAR-10 Batch 3:  \n",
      "cost:0.26880723237991333\n",
      "acc:0.9749999642372131\n",
      "Epoch 12, CIFAR-10 Batch 4:  \n",
      "cost:0.3743090033531189\n",
      "acc:0.925000011920929\n",
      "Epoch 12, CIFAR-10 Batch 5:  \n",
      "cost:0.32284361124038696\n",
      "acc:0.949999988079071\n",
      "Epoch 13, CIFAR-10 Batch 1:  \n",
      "cost:0.24970799684524536\n",
      "acc:1.0\n",
      "Epoch 13, CIFAR-10 Batch 2:  \n",
      "cost:0.2823948264122009\n",
      "acc:0.949999988079071\n",
      "Epoch 13, CIFAR-10 Batch 3:  \n",
      "cost:0.22252719104290009\n",
      "acc:0.9749999642372131\n",
      "Epoch 13, CIFAR-10 Batch 4:  \n",
      "cost:0.29723620414733887\n",
      "acc:0.9749999642372131\n",
      "Epoch 13, CIFAR-10 Batch 5:  \n",
      "cost:0.3457423448562622\n",
      "acc:0.949999988079071\n",
      "Epoch 14, CIFAR-10 Batch 1:  \n",
      "cost:0.24974213540554047\n",
      "acc:0.925000011920929\n",
      "Epoch 14, CIFAR-10 Batch 2:  \n",
      "cost:0.23628243803977966\n",
      "acc:1.0\n",
      "Epoch 14, CIFAR-10 Batch 3:  \n",
      "cost:0.2004498541355133\n",
      "acc:1.0\n",
      "Epoch 14, CIFAR-10 Batch 4:  \n",
      "cost:0.25683945417404175\n",
      "acc:0.9750000238418579\n",
      "Epoch 14, CIFAR-10 Batch 5:  \n",
      "cost:0.2791394591331482\n",
      "acc:0.9749999642372131\n",
      "Epoch 15, CIFAR-10 Batch 1:  \n",
      "cost:0.20656771957874298\n",
      "acc:1.0\n",
      "Epoch 15, CIFAR-10 Batch 2:  \n",
      "cost:0.175455704331398\n",
      "acc:1.0\n",
      "Epoch 15, CIFAR-10 Batch 3:  \n",
      "cost:0.14190635085105896\n",
      "acc:1.0\n",
      "Epoch 15, CIFAR-10 Batch 4:  \n",
      "cost:0.24178075790405273\n",
      "acc:0.9750000238418579\n",
      "Epoch 15, CIFAR-10 Batch 5:  \n",
      "cost:0.24609564244747162\n",
      "acc:0.949999988079071\n",
      "Epoch 16, CIFAR-10 Batch 1:  \n",
      "cost:0.2748561501502991\n",
      "acc:0.9749999642372131\n",
      "Epoch 16, CIFAR-10 Batch 2:  \n",
      "cost:0.17644909024238586\n",
      "acc:0.9749999642372131\n",
      "Epoch 16, CIFAR-10 Batch 3:  \n",
      "cost:0.1627226024866104\n",
      "acc:1.0\n",
      "Epoch 16, CIFAR-10 Batch 4:  \n",
      "cost:0.2681167721748352\n",
      "acc:0.949999988079071\n",
      "Epoch 16, CIFAR-10 Batch 5:  \n",
      "cost:0.29848355054855347\n",
      "acc:0.925000011920929\n",
      "Epoch 17, CIFAR-10 Batch 1:  \n",
      "cost:0.26044273376464844\n",
      "acc:0.9749999642372131\n",
      "Epoch 17, CIFAR-10 Batch 2:  \n",
      "cost:0.2079252302646637\n",
      "acc:1.0\n",
      "Epoch 17, CIFAR-10 Batch 3:  \n",
      "cost:0.19688169658184052\n",
      "acc:1.0\n",
      "Epoch 17, CIFAR-10 Batch 4:  \n",
      "cost:0.2315462827682495\n",
      "acc:0.949999988079071\n",
      "Epoch 17, CIFAR-10 Batch 5:  \n",
      "cost:0.25436922907829285\n",
      "acc:0.9749999642372131\n",
      "Epoch 18, CIFAR-10 Batch 1:  \n",
      "cost:0.18215960264205933\n",
      "acc:1.0\n",
      "Epoch 18, CIFAR-10 Batch 2:  \n",
      "cost:0.16627854108810425\n",
      "acc:1.0\n",
      "Epoch 18, CIFAR-10 Batch 3:  \n",
      "cost:0.15666361153125763\n",
      "acc:1.0\n",
      "Epoch 18, CIFAR-10 Batch 4:  \n",
      "cost:0.18179386854171753\n",
      "acc:0.9750000238418579\n",
      "Epoch 18, CIFAR-10 Batch 5:  \n",
      "cost:0.2418871521949768\n",
      "acc:0.9749999642372131\n",
      "Epoch 19, CIFAR-10 Batch 1:  \n",
      "cost:0.1354677677154541\n",
      "acc:1.0\n",
      "Epoch 19, CIFAR-10 Batch 2:  \n",
      "cost:0.14733219146728516\n",
      "acc:1.0\n",
      "Epoch 19, CIFAR-10 Batch 3:  \n",
      "cost:0.11477594077587128\n",
      "acc:1.0\n",
      "Epoch 19, CIFAR-10 Batch 4:  \n",
      "cost:0.14047938585281372\n",
      "acc:0.9750000238418579\n",
      "Epoch 19, CIFAR-10 Batch 5:  \n",
      "cost:0.2025080919265747\n",
      "acc:1.0\n",
      "Epoch 20, CIFAR-10 Batch 1:  \n",
      "cost:0.08255002647638321\n",
      "acc:1.0\n",
      "Epoch 20, CIFAR-10 Batch 2:  \n",
      "cost:0.18985474109649658\n",
      "acc:0.949999988079071\n",
      "Epoch 20, CIFAR-10 Batch 3:  \n",
      "cost:0.08159784227609634\n",
      "acc:1.0\n",
      "Epoch 20, CIFAR-10 Batch 4:  \n",
      "cost:0.17265479266643524\n",
      "acc:0.9749999642372131\n",
      "Epoch 20, CIFAR-10 Batch 5:  \n",
      "cost:0.1387561410665512\n",
      "acc:0.9749999642372131\n",
      "Epoch 21, CIFAR-10 Batch 1:  \n",
      "cost:0.0738351047039032\n",
      "acc:1.0\n",
      "Epoch 21, CIFAR-10 Batch 2:  \n",
      "cost:0.1594596654176712\n",
      "acc:1.0\n",
      "Epoch 21, CIFAR-10 Batch 3:  \n",
      "cost:0.05798323452472687\n",
      "acc:1.0\n",
      "Epoch 21, CIFAR-10 Batch 4:  \n",
      "cost:0.14759939908981323\n",
      "acc:0.9750000238418579\n",
      "Epoch 21, CIFAR-10 Batch 5:  \n",
      "cost:0.11274749785661697\n",
      "acc:1.0\n",
      "Epoch 22, CIFAR-10 Batch 1:  \n",
      "cost:0.134196475148201\n",
      "acc:1.0\n",
      "Epoch 22, CIFAR-10 Batch 2:  \n",
      "cost:0.09518483281135559\n",
      "acc:1.0\n",
      "Epoch 22, CIFAR-10 Batch 3:  \n",
      "cost:0.06829600036144257\n",
      "acc:1.0\n",
      "Epoch 22, CIFAR-10 Batch 4:  \n",
      "cost:0.12794096767902374\n",
      "acc:1.0\n",
      "Epoch 22, CIFAR-10 Batch 5:  \n",
      "cost:0.09726358950138092\n",
      "acc:1.0\n",
      "Epoch 23, CIFAR-10 Batch 1:  \n",
      "cost:0.08170594274997711\n",
      "acc:1.0\n",
      "Epoch 23, CIFAR-10 Batch 2:  \n",
      "cost:0.07783317565917969\n",
      "acc:1.0\n",
      "Epoch 23, CIFAR-10 Batch 3:  \n",
      "cost:0.08575119078159332\n",
      "acc:1.0\n",
      "Epoch 23, CIFAR-10 Batch 4:  \n",
      "cost:0.15928848087787628\n",
      "acc:1.0\n",
      "Epoch 23, CIFAR-10 Batch 5:  \n",
      "cost:0.12078998982906342\n",
      "acc:1.0\n",
      "Epoch 24, CIFAR-10 Batch 1:  \n",
      "cost:0.12912315130233765\n",
      "acc:1.0\n",
      "Epoch 24, CIFAR-10 Batch 2:  \n",
      "cost:0.053293414413928986\n",
      "acc:1.0\n",
      "Epoch 24, CIFAR-10 Batch 3:  \n",
      "cost:0.10181573778390884\n",
      "acc:0.9749999642372131\n",
      "Epoch 24, CIFAR-10 Batch 4:  \n",
      "cost:0.2062898874282837\n",
      "acc:1.0\n",
      "Epoch 24, CIFAR-10 Batch 5:  \n",
      "cost:0.10018093883991241\n",
      "acc:0.9749999642372131\n",
      "Epoch 25, CIFAR-10 Batch 1:  \n",
      "cost:0.05671752616763115\n",
      "acc:1.0\n",
      "Epoch 25, CIFAR-10 Batch 2:  \n",
      "cost:0.08413399755954742\n",
      "acc:1.0\n",
      "Epoch 25, CIFAR-10 Batch 3:  \n",
      "cost:0.0629967600107193\n",
      "acc:1.0\n",
      "Epoch 25, CIFAR-10 Batch 4:  \n",
      "cost:0.12257838994264603\n",
      "acc:1.0\n",
      "Epoch 25, CIFAR-10 Batch 5:  \n",
      "cost:0.1079651266336441\n",
      "acc:1.0\n"
     ]
    }
   ],
   "source": [
    "\"\"\"\n",
    "DON'T MODIFY ANYTHING IN THIS CELL\n",
    "\"\"\"\n",
    "save_model_path = './image_classification'\n",
    "\n",
    "print('Training...')\n",
    "with tf.Session() as sess:\n",
    "    # Initializing the variables\n",
    "    sess.run(tf.global_variables_initializer())\n",
    "    \n",
    "    # Training cycle\n",
    "    for epoch in range(epochs):\n",
    "        # Loop over all batches\n",
    "        n_batches = 5\n",
    "        for batch_i in range(1, n_batches + 1):\n",
    "            for batch_features, batch_labels in helper.load_preprocess_training_batch(batch_i, batch_size):\n",
    "                train_neural_network(sess, optimizer, keep_probability, batch_features, batch_labels)\n",
    "            print('Epoch {:>2}, CIFAR-10 Batch {}:  '.format(epoch + 1, batch_i), end='')\n",
    "            print_stats(sess, batch_features, batch_labels, cost, accuracy)\n",
    "            \n",
    "    # Save Model\n",
    "    saver = tf.train.Saver()\n",
    "    save_path = saver.save(sess, save_model_path)"
   ]
  },
  {
   "cell_type": "markdown",
   "metadata": {
    "deletable": true,
    "editable": true
   },
   "source": [
    "# Checkpoint\n",
    "The model has been saved to disk.\n",
    "## Test Model\n",
    "Test your model against the test dataset.  This will be your final accuracy. You should have an accuracy greater than 50%. If you don't, keep tweaking the model architecture and parameters."
   ]
  },
  {
   "cell_type": "code",
   "execution_count": 18,
   "metadata": {
    "collapsed": false,
    "deletable": true,
    "editable": true
   },
   "outputs": [
    {
     "name": "stdout",
     "output_type": "stream",
     "text": [
      "Testing Accuracy: 0.503125\n",
      "\n"
     ]
    },
    {
     "data": {
      "image/png": "[encoded data removed]",
      "text/plain": [
       "<matplotlib.figure.Figure at 0x7f8a4ba42f98>"
      ]
     },
     "metadata": {
      "image/png": {
       "height": 319,
       "width": 355
      }
     },
     "output_type": "display_data"
    }
   ],
   "source": [
    "\"\"\"\n",
    "DON'T MODIFY ANYTHING IN THIS CELL\n",
    "\"\"\"\n",
    "%matplotlib inline\n",
    "%config InlineBackend.figure_format = 'retina'\n",
    "\n",
    "import tensorflow as tf\n",
    "import pickle\n",
    "import helper\n",
    "import random\n",
    "\n",
    "# Set batch size if not already set\n",
    "try:\n",
    "    if batch_size:\n",
    "        pass\n",
    "except NameError:\n",
    "    batch_size = 64\n",
    "\n",
    "save_model_path = './image_classification'\n",
    "n_samples = 4\n",
    "top_n_predictions = 3\n",
    "\n",
    "def test_model():\n",
    "    \"\"\"\n",
    "    Test the saved model against the test dataset\n",
    "    \"\"\"\n",
    "\n",
    "    test_features, test_labels = pickle.load(open('preprocess_training.p', mode='rb'))\n",
    "    loaded_graph = tf.Graph()\n",
    "\n",
    "    with tf.Session(graph=loaded_graph) as sess:\n",
    "        # Load model\n",
    "        loader = tf.train.import_meta_graph(save_model_path + '.meta')\n",
    "        loader.restore(sess, save_model_path)\n",
    "\n",
    "        # Get Tensors from loaded model\n",
    "        loaded_x = loaded_graph.get_tensor_by_name('x:0')\n",
    "        loaded_y = loaded_graph.get_tensor_by_name('y:0')\n",
    "        loaded_keep_prob = loaded_graph.get_tensor_by_name('keep_prob:0')\n",
    "        loaded_logits = loaded_graph.get_tensor_by_name('logits:0')\n",
    "        loaded_acc = loaded_graph.get_tensor_by_name('accuracy:0')\n",
    "        \n",
    "        # Get accuracy in batches for memory limitations\n",
    "        test_batch_acc_total = 0\n",
    "        test_batch_count = 0\n",
    "        \n",
    "        for train_feature_batch, train_label_batch in helper.batch_features_labels(test_features, test_labels, batch_size):\n",
    "            test_batch_acc_total += sess.run(\n",
    "                loaded_acc,\n",
    "                feed_dict={loaded_x: train_feature_batch, loaded_y: train_label_batch, loaded_keep_prob: 1.0})\n",
    "            test_batch_count += 1\n",
    "\n",
    "        print('Testing Accuracy: {}\\n'.format(test_batch_acc_total/test_batch_count))\n",
    "\n",
    "        # Print Random Samples\n",
    "        random_test_features, random_test_labels = tuple(zip(*random.sample(list(zip(test_features, test_labels)), n_samples)))\n",
    "        random_test_predictions = sess.run(\n",
    "            tf.nn.top_k(tf.nn.softmax(loaded_logits), top_n_predictions),\n",
    "            feed_dict={loaded_x: random_test_features, loaded_y: random_test_labels, loaded_keep_prob: 1.0})\n",
    "        helper.display_image_predictions(random_test_features, random_test_labels, random_test_predictions)\n",
    "\n",
    "\n",
    "test_model()"
   ]
  },
  {
   "cell_type": "markdown",
   "metadata": {
    "deletable": true,
    "editable": true
   },
   "source": [
    "## Why 50-80% Accuracy?\n",
    "You might be wondering why you can't get an accuracy any higher. First things first, 50% isn't bad for a simple CNN.  Pure guessing would get you 10% accuracy. However, you might notice people are getting scores [well above 80%](http://rodrigob.github.io/are_we_there_yet/build/classification_datasets_results.html#43494641522d3130).  That's because we haven't taught you all there is to know about neural networks. We still need to cover a few more techniques.\n",
    "## Submitting This Project\n",
    "When submitting this project, make sure to run all the cells before saving the notebook.  Save the notebook file as \"dlnd_image_classification.ipynb\" and save it as a HTML file under \"File\" -> \"Download as\".  Include the \"helper.py\" and \"problem_unittests.py\" files in your submission."
   ]
  }
 ],
 "metadata": {
  "kernelspec": {
   "display_name": "Python 3",
   "language": "python",
   "name": "python3"
  },
  "language_info": {
   "codemirror_mode": {
    "name": "ipython",
    "version": 3
   },
   "file_extension": ".py",
   "mimetype": "text/x-python",
   "name": "python",
   "nbconvert_exporter": "python",
   "pygments_lexer": "ipython3",
   "version": "3.5.3"
  },
  "widgets": {
   "state": {},
   "version": "1.1.2"
  }
 },
 "nbformat": 4,
 "nbformat_minor": 0
}
